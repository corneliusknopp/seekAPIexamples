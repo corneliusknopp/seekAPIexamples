{
  "nbformat": 4,
  "nbformat_minor": 0,
  "metadata": {
    "colab": {
      "name": "search.ipynb",
      "version": "0.3.2",
      "views": {},
      "default_view": {},
      "provenance": [],
      "collapsed_sections": []
    },
    "kernelspec": {
      "display_name": "Python 3",
      "language": "python",
      "name": "python3"
    }
  },
  "cells": [
    {
      "metadata": {
        "id": "eHED0l52PClp",
        "colab_type": "text"
      },
      "cell_type": "markdown",
      "source": [
        "Import the libraries so that they can be used within the notebook\n",
        "\n",
        "* **requests** is used to make HTTP calls\n",
        "* **json** is used to encode and decode strings into JSON\n",
        "* **string** is used to perform text manipulation and checking"
      ]
    },
    {
      "metadata": {
        "id": "-kQM_N7HO1ee",
        "colab_type": "code",
        "colab": {
          "autoexec": {
            "startup": false,
            "wait_interval": 0
          }
        }
      },
      "cell_type": "code",
      "source": [
        "import requests\n",
        "import json\n",
        "import string"
      ],
      "execution_count": 0,
      "outputs": []
    },
    {
      "metadata": {
        "id": "jcjVj33wO1en",
        "colab_type": "text"
      },
      "cell_type": "markdown",
      "source": [
        "The **remove_non_printable** function ensures that the returned text does not contain any unprintable characters"
      ]
    },
    {
      "metadata": {
        "id": "bsvUlhChO1eo",
        "colab_type": "code",
        "colab": {
          "autoexec": {
            "startup": false,
            "wait_interval": 0
          }
        }
      },
      "cell_type": "code",
      "source": [
        "def remove_non_printable(text):\n",
        "    return ''.join(i for i in text if i in string.printable)"
      ],
      "execution_count": 0,
      "outputs": []
    },
    {
      "metadata": {
        "id": "FUrsZrq5O1ew",
        "colab_type": "text"
      },
      "cell_type": "markdown",
      "source": [
        "The **base_url** holds the URL to the SEEK instance that will be used in the notebook\n",
        "\n",
        "**headers** holds the HTTP headers that will be sent with every HTTP call\n",
        "\n",
        "* **Content-type: application/vnd.api+json** - indicates that any data sent will be in JSON API format\n",
        "* **Accept: application/vnd.api+json** - indicates that the notebook expects any data returned to be in JSON API format\n",
        "* **Accept-Charset: ISO-8859-1** - indicates that the notebook expects any text returned to be in ISO-8859-1 character set"
      ]
    },
    {
      "metadata": {
        "id": "Q1Avpu91O1ex",
        "colab_type": "code",
        "colab": {
          "autoexec": {
            "startup": false,
            "wait_interval": 0
          }
        }
      },
      "cell_type": "code",
      "source": [
        "base_url = 'http://www.fairdomhub.org/'\n",
        "\n",
        "headers = {\"Content-type\": \"application/vnd.api+json\",\n",
        "           \"Accept\": \"application/vnd.api+json\",\n",
        "           \"Accept-Charset\": \"ISO-8859-1\"}"
      ],
      "execution_count": 0,
      "outputs": []
    },
    {
      "metadata": {
        "id": "gVICtb3hO1e5",
        "colab_type": "text"
      },
      "cell_type": "markdown",
      "source": [
        "**term** holds the search term entered by the user"
      ]
    },
    {
      "metadata": {
        "id": "ORPwSkL2O1e7",
        "colab_type": "code",
        "colab": {
          "autoexec": {
            "startup": false,
            "wait_interval": 0
          }
        }
      },
      "cell_type": "code",
      "source": [
        "term = input(\"Enter the search term: \")"
      ],
      "execution_count": 0,
      "outputs": []
    },
    {
      "metadata": {
        "id": "BIeoMajGO1fC",
        "colab_type": "text"
      },
      "cell_type": "markdown",
      "source": [
        "The **payload** indicates that the parameters to the HTTP call will be **?q=** *term*\n",
        "\n",
        "The notebook then makes a HTTP GET using the search using the **headers** and the **payload** parameter\n",
        "\n",
        "The result of the **GET** is within **r**.\n",
        "\n",
        "If the request failed then raise an error"
      ]
    },
    {
      "metadata": {
        "id": "0gUfMWbxO1fE",
        "colab_type": "code",
        "colab": {
          "autoexec": {
            "startup": false,
            "wait_interval": 0
          }
        }
      },
      "cell_type": "code",
      "source": [
        "payload = {'q' : term}\n",
        "\n",
        "r = requests.get(base_url + 'search', headers=headers, params=payload)\n",
        "\n",
        "r.raise_for_status()"
      ],
      "execution_count": 0,
      "outputs": []
    },
    {
      "metadata": {
        "id": "ZkhVtS9PO1fL",
        "colab_type": "text"
      },
      "cell_type": "markdown",
      "source": [
        "For every entry in the returned JSON, print its **type** and **title**."
      ]
    },
    {
      "metadata": {
        "id": "1c7aeJkIO1fN",
        "colab_type": "code",
        "colab": {
          "autoexec": {
            "startup": false,
            "wait_interval": 0
          }
        }
      },
      "cell_type": "code",
      "source": [
        "for entry in r.json()['data'] :\n",
        "    title = entry['attributes']['title']\n",
        "    entry_type = entry['type']\n",
        "    print (\"Type: {0}   Title: {1}\".format(remove_non_printable(entry_type),\n",
        "                                            remove_non_printable(title)))"
      ],
      "execution_count": 0,
      "outputs": []
    },
    {
      "metadata": {
        "id": "aFN4nA0PO1fV",
        "colab_type": "code",
        "colab": {
          "autoexec": {
            "startup": false,
            "wait_interval": 0
          }
        }
      },
      "cell_type": "code",
      "source": [
        ""
      ],
      "execution_count": 0,
      "outputs": []
    }
  ]
}