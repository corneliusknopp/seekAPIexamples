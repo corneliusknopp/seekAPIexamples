{
  "nbformat": 4,
  "nbformat_minor": 0,
  "metadata": {
    "colab": {
      "name": "search_type.ipynb",
      "version": "0.3.2",
      "views": {},
      "default_view": {},
      "provenance": [],
      "collapsed_sections": []
    },
    "kernelspec": {
      "display_name": "Python 3",
      "language": "python",
      "name": "python3"
    }
  },
  "cells": [
    {
      "metadata": {
        "id": "b4wRaHP3VY8w",
        "colab_type": "text"
      },
      "cell_type": "markdown",
      "source": [
        "Import the libraries so that they can be used within the notebook\n",
        "\n",
        "* **requests** is used to make HTTP calls\n",
        "* **json** is used to encode and decode strings into JSON\n",
        "* **string** is used to perform text manipulation and checking"
      ]
    },
    {
      "metadata": {
        "id": "hYm-nvdQVY8z",
        "colab_type": "code",
        "colab": {
          "autoexec": {
            "startup": false,
            "wait_interval": 0
          }
        }
      },
      "cell_type": "code",
      "source": [
        "import requests\n",
        "import json\n",
        "import string"
      ],
      "execution_count": 0,
      "outputs": []
    },
    {
      "metadata": {
        "id": "T4i5HEVkVY8-",
        "colab_type": "text"
      },
      "cell_type": "markdown",
      "source": [
        "The **remove_non_printable** function ensures that the returned text does not contain any unprintable characters"
      ]
    },
    {
      "metadata": {
        "id": "FfiO4ZlGVY9A",
        "colab_type": "code",
        "colab": {
          "autoexec": {
            "startup": false,
            "wait_interval": 0
          }
        }
      },
      "cell_type": "code",
      "source": [
        "def remove_non_printable(text):\n",
        "    return ''.join(i for i in text if i in string.printable)"
      ],
      "execution_count": 0,
      "outputs": []
    },
    {
      "metadata": {
        "id": "MDEB82imVY9H",
        "colab_type": "text"
      },
      "cell_type": "markdown",
      "source": [
        "The **base_url** holds the URL to the SEEK instance that will be used in the notebook\n",
        "\n",
        "**headers** holds the HTTP headers that will be sent with every HTTP call\n",
        "\n",
        "* **Content-type: application/vnd.api+json** - indicates that any data sent will be in JSON API format\n",
        "* **Accept: application/vnd.api+json** - indicates that the notebook expects any data returned to be in JSON API format\n",
        "* **Accept-Charset: ISO-8859-1** - indicates that the notebook expects any text returned to be in ISO-8859-1 character set"
      ]
    },
    {
      "metadata": {
        "id": "W7_-YHGoVY9J",
        "colab_type": "code",
        "colab": {
          "autoexec": {
            "startup": false,
            "wait_interval": 0
          }
        }
      },
      "cell_type": "code",
      "source": [
        "base_url = 'http://www.fairdomhub.org/'\n",
        "\n",
        "headers = {\"Content-type\": \"application/vnd.api+json\",\n",
        "           \"Accept\": \"application/vnd.api+json\",\n",
        "           \"Accept-Charset\": \"ISO-8859-1\"}"
      ],
      "execution_count": 0,
      "outputs": []
    },
    {
      "metadata": {
        "id": "IWDtcCVbVY9Q",
        "colab_type": "text"
      },
      "cell_type": "markdown",
      "source": [
        "**term** holds the search term entered by the user"
      ]
    },
    {
      "metadata": {
        "id": "pTyEyu6jVY9S",
        "colab_type": "code",
        "colab": {
          "autoexec": {
            "startup": false,
            "wait_interval": 0
          }
        }
      },
      "cell_type": "code",
      "source": [
        "term = input(\"Enter the search term: \")"
      ],
      "execution_count": 0,
      "outputs": []
    },
    {
      "metadata": {
        "id": "ryYGSPjxVY9Z",
        "colab_type": "text"
      },
      "cell_type": "markdown",
      "source": [
        "**type_choices** lists the types of SEEK resources that can be searched for.\n",
        "\n",
        "**response** holds the user's choice of type"
      ]
    },
    {
      "metadata": {
        "id": "dJ3xlCgHVY9b",
        "colab_type": "code",
        "colab": {
          "autoexec": {
            "startup": false,
            "wait_interval": 0
          }
        }
      },
      "cell_type": "code",
      "source": [
        "type_choices = [\"assays\",\n",
        "        \"content_blobs\",\n",
        "        \"data_files\",\n",
        "        \"documents\",\n",
        "        \"events\",\n",
        "        \"models\",\n",
        "        \"organisms\",\n",
        "        \"people\",\n",
        "        \"presentations\",\n",
        "        \"programmes\",\n",
        "        \"projects\",\n",
        "        \"publications\",\n",
        "        \"sample_types\",\n",
        "        \"sops\",\n",
        "        \"studies\"]\n",
        "\n",
        "print (\"Enter the type of object:\")\n",
        "response = None\n",
        "while response not in type_choices:\n",
        "    response = input(\"Please enter one of: \" + ', '.join(type_choices))\n",
        "\n",
        "print (response)"
      ],
      "execution_count": 0,
      "outputs": []
    },
    {
      "metadata": {
        "id": "hUhwJyn3VY9i",
        "colab_type": "text"
      },
      "cell_type": "markdown",
      "source": [
        "The **payload** indicates that the parameters to the HTTP call will be **q=** *term* and **search_type=** *response*\n",
        "\n",
        "The notebook then makes a HTTP GET using the search using the **headers** and the **payload** parameters\n",
        "\n",
        "The result of the **GET** is within **r**.\n",
        "\n",
        "If the request failed then raise an error"
      ]
    },
    {
      "metadata": {
        "id": "ZDAyP-X3VY9k",
        "colab_type": "code",
        "colab": {
          "autoexec": {
            "startup": false,
            "wait_interval": 0
          }
        }
      },
      "cell_type": "code",
      "source": [
        "payload = {'q' : term, 'search_type' : response}\n",
        "\n",
        "r = requests.get(base_url + 'search', headers=headers, params=payload)\n",
        "\n",
        "r.raise_for_status()"
      ],
      "execution_count": 0,
      "outputs": []
    },
    {
      "metadata": {
        "id": "KVR1PBz5VY9r",
        "colab_type": "text"
      },
      "cell_type": "markdown",
      "source": [
        "For every entry in the returned JSON, print its **type** and **title**."
      ]
    },
    {
      "metadata": {
        "id": "0QG98qAWVY9s",
        "colab_type": "code",
        "colab": {
          "autoexec": {
            "startup": false,
            "wait_interval": 0
          }
        }
      },
      "cell_type": "code",
      "source": [
        "for entry in r.json()['data'] :\n",
        "    title = entry['attributes']['title']\n",
        "    entry_type = entry['type']\n",
        "    print (\"Type: {0}   Title: {1}\".format(remove_non_printable(entry_type),\n",
        "                                            remove_non_printable(title)))"
      ],
      "execution_count": 0,
      "outputs": []
    },
    {
      "metadata": {
        "id": "5QW7UfJHVY9z",
        "colab_type": "code",
        "colab": {
          "autoexec": {
            "startup": false,
            "wait_interval": 0
          }
        }
      },
      "cell_type": "code",
      "source": [
        ""
      ],
      "execution_count": 0,
      "outputs": []
    }
  ]
}