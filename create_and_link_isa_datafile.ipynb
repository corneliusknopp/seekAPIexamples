{
 "cells": [
  {
   "cell_type": "code",
   "execution_count": 1,
   "metadata": {},
   "outputs": [],
   "source": [
    "import requests\n",
    "import json\n",
    "import string\n",
    "import getpass"
   ]
  },
  {
   "cell_type": "code",
   "execution_count": 2,
   "metadata": {},
   "outputs": [],
   "source": [
    "def remove_non_printable(text):\n",
    "    return ''.join(i for i in text if i in string.printable)"
   ]
  },
  {
   "cell_type": "code",
   "execution_count": 3,
   "metadata": {},
   "outputs": [],
   "source": [
    "base_url = 'https://testing.sysmo-db.org'\n",
    "\n",
    "headers = {\"Content-type\": \"application/vnd.api+json\",\n",
    "           \"Accept\": \"application/vnd.api+json\",\n",
    "           \"Accept-Charset\": \"ISO-8859-1\"}"
   ]
  },
  {
   "cell_type": "code",
   "execution_count": 4,
   "metadata": {},
   "outputs": [
    {
     "name": "stdout",
     "output_type": "stream",
     "text": [
      "Username: alson\n",
      "Password: ········\n"
     ]
    }
   ],
   "source": [
    "session = requests.Session()\n",
    "session.headers.update(headers)\n",
    "session.auth = (input('Username: '), getpass.getpass('Password: '))"
   ]
  },
  {
   "cell_type": "code",
   "execution_count": 5,
   "metadata": {},
   "outputs": [
    {
     "name": "stdout",
     "output_type": "stream",
     "text": [
      "Please enter the name for the investigation: i\n"
     ]
    }
   ],
   "source": [
    "containing_project_id = 33\n",
    "\n",
    "investigation = {}\n",
    "investigation['data'] = {}\n",
    "investigation['data']['type'] = 'investigations'\n",
    "investigation['data']['attributes'] = {}\n",
    "investigation['data']['attributes']['title'] = input('Please enter the name for the investigation: ')\n",
    "investigation['data']['relationships'] = {}\n",
    "investigation['data']['relationships']['projects'] = {}\n",
    "investigation['data']['relationships']['projects']['data'] = [{'id' : containing_project_id, 'type' : 'projects'}]\n"
   ]
  },
  {
   "cell_type": "code",
   "execution_count": 6,
   "metadata": {},
   "outputs": [],
   "source": [
    "r = session.post(base_url + '/investigations', json=investigation)"
   ]
  },
  {
   "cell_type": "code",
   "execution_count": 7,
   "metadata": {},
   "outputs": [],
   "source": [
    "populated_investigation = r.json()"
   ]
  },
  {
   "cell_type": "code",
   "execution_count": 8,
   "metadata": {},
   "outputs": [],
   "source": [
    "investigation_id = populated_investigation['data']['id']\n",
    "investigation_url = populated_investigation['data']['links']['self']"
   ]
  },
  {
   "cell_type": "code",
   "execution_count": 9,
   "metadata": {},
   "outputs": [
    {
     "name": "stdout",
     "output_type": "stream",
     "text": [
      "Please enter the name for the study: s\n"
     ]
    }
   ],
   "source": [
    "study = {}\n",
    "study['data'] = {}\n",
    "study['data']['type'] = 'studies'\n",
    "study['data']['attributes'] = {}\n",
    "study['data']['attributes']['title'] = input('Please enter the name for the study: ')\n",
    "study['data']['relationships'] = {}\n",
    "study['data']['relationships']['investigation'] = {}\n",
    "study['data']['relationships']['investigation']['data'] = {'id' : investigation_id, 'type' : 'investigations'}"
   ]
  },
  {
   "cell_type": "code",
   "execution_count": 10,
   "metadata": {},
   "outputs": [],
   "source": [
    "r = session.post(base_url + '/studies', json=study)"
   ]
  },
  {
   "cell_type": "code",
   "execution_count": 11,
   "metadata": {},
   "outputs": [],
   "source": [
    "populated_study = r.json()"
   ]
  },
  {
   "cell_type": "code",
   "execution_count": 12,
   "metadata": {},
   "outputs": [],
   "source": [
    "study_id = populated_study['data']['id']\n",
    "study_url = populated_study['data']['links']['self']"
   ]
  },
  {
   "cell_type": "code",
   "execution_count": 13,
   "metadata": {},
   "outputs": [
    {
     "name": "stdout",
     "output_type": "stream",
     "text": [
      "Please enter the name for the assay: a\n"
     ]
    }
   ],
   "source": [
    "assay = {}\n",
    "assay['data'] = {}\n",
    "assay['data']['type'] = 'assays'\n",
    "assay['data']['attributes'] = {}\n",
    "assay['data']['attributes']['title'] = input('Please enter the name for the assay: ')\n",
    "assay['data']['attributes']['assay_class'] = {'key' : 'EXP'}\n",
    "assay['data']['attributes']['assay_type'] = {'uri' : 'http://jermontology.org/ontology/JERMOntology#Metabolomics'}\n",
    "assay['data']['attributes']['technology_type'] = {'uri' : 'http://jermontology.org/ontology/JERMOntology#Electrophoresis'}\n",
    "assay['data']['relationships'] = {}\n",
    "assay['data']['relationships']['study'] = {}\n",
    "assay['data']['relationships']['study']['data'] = {'id' : study_id, 'type' : 'studies'}"
   ]
  },
  {
   "cell_type": "code",
   "execution_count": 14,
   "metadata": {},
   "outputs": [],
   "source": [
    "r = session.post(base_url + '/assays', json=assay)"
   ]
  },
  {
   "cell_type": "code",
   "execution_count": 15,
   "metadata": {},
   "outputs": [],
   "source": [
    "populated_assay = r.json()"
   ]
  },
  {
   "cell_type": "code",
   "execution_count": 16,
   "metadata": {},
   "outputs": [],
   "source": [
    "assay_id = populated_assay['data']['id']\n",
    "assay_url = populated_assay['data']['links']['self']"
   ]
  },
  {
   "cell_type": "code",
   "execution_count": 18,
   "metadata": {},
   "outputs": [
    {
     "name": "stdout",
     "output_type": "stream",
     "text": [
      "Please enter the name for the data_file: d\n",
      "Please enter the URL for the remote data: http://www.myexperiment.org\n"
     ]
    }
   ],
   "source": [
    "data_file = {}\n",
    "data_file['data'] = {}\n",
    "data_file['data']['type'] = 'data_files'\n",
    "data_file['data']['attributes'] = {}\n",
    "data_file['data']['attributes']['title'] = input('Please enter the name for the data_file: ')\n",
    "\n",
    "remote_blob = {'url' : input('Please enter the URL for the remote data: ')}\n",
    "data_file['data']['attributes']['content_blobs'] = [remote_blob]\n",
    "data_file['data']['relationships'] = {}\n",
    "data_file['data']['relationships']['projects'] = {}\n",
    "data_file['data']['relationships']['projects']['data'] = [{'id' : containing_project_id, 'type' : 'projects'}]\n",
    "data_file['data']['relationships']['assays'] = {}\n",
    "data_file['data']['relationships']['assays']['data'] = [{'id' : assay_id, 'type' : 'assays'}]"
   ]
  },
  {
   "cell_type": "code",
   "execution_count": 20,
   "metadata": {},
   "outputs": [],
   "source": [
    "r = session.post(base_url + '/data_files', json=data_file)"
   ]
  },
  {
   "cell_type": "code",
   "execution_count": null,
   "metadata": {},
   "outputs": [],
   "source": [
    "session.delete(base_url + assay_url)\n",
    "session.delete(base_url + study_url)\n",
    "session.delete(base_url + investigation_url)"
   ]
  },
  {
   "cell_type": "code",
   "execution_count": null,
   "metadata": {},
   "outputs": [],
   "source": [
    "session.close()"
   ]
  },
  {
   "cell_type": "code",
   "execution_count": 19,
   "metadata": {},
   "outputs": [
    {
     "data": {
      "text/plain": [
       "'79'"
      ]
     },
     "execution_count": 19,
     "metadata": {},
     "output_type": "execute_result"
    }
   ],
   "source": [
    "assay_id"
   ]
  },
  {
   "cell_type": "code",
   "execution_count": null,
   "metadata": {},
   "outputs": [],
   "source": []
  }
 ],
 "metadata": {
  "kernelspec": {
   "display_name": "Python 3",
   "language": "python",
   "name": "python3"
  },
  "language_info": {
   "codemirror_mode": {
    "name": "ipython",
    "version": 3
   },
   "file_extension": ".py",
   "mimetype": "text/x-python",
   "name": "python",
   "nbconvert_exporter": "python",
   "pygments_lexer": "ipython3",
   "version": "3.6.4"
  }
 },
 "nbformat": 4,
 "nbformat_minor": 2
}
