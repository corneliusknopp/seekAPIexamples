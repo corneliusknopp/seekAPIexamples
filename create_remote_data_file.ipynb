{
  "nbformat": 4,
  "nbformat_minor": 0,
  "metadata": {
    "colab": {
      "name": "create_remote_data_file.ipynb",
      "version": "0.3.2",
      "views": {},
      "default_view": {},
      "provenance": [],
      "collapsed_sections": []
    },
    "kernelspec": {
      "display_name": "Python 3",
      "language": "python",
      "name": "python3"
    }
  },
  "cells": [
    {
      "metadata": {
        "id": "eHED0l52PClp",
        "colab_type": "text"
      },
      "cell_type": "markdown",
      "source": [
        "Import the libraries so that they can be used within the notebook\n",
        "\n",
        "* **requests** is used to make HTTP calls\n",
        "* **json** is used to encode and decode strings into JSON\n",
        "* **string** is used to perform text manipulation and checking\n",
        "* **getpass** is used to do non-echoing password input"
      ]
    },
    {
      "metadata": {
        "id": "GkVQWaJtjl5S",
        "colab_type": "code",
        "colab": {
          "autoexec": {
            "startup": false,
            "wait_interval": 0
          }
        }
      },
      "cell_type": "code",
      "source": [
        "import requests\n",
        "import json\n",
        "import string\n",
        "import getpass"
      ],
      "execution_count": 0,
      "outputs": []
    },
    {
      "metadata": {
        "id": "u9t7T9pmQJsn",
        "colab_type": "text"
      },
      "cell_type": "markdown",
      "source": [
        "The **base_url** holds the URL to the SEEK instance that will be used in the notebook\n",
        "\n",
        "**headers** holds the HTTP headers that will be sent with every HTTP call\n",
        "\n",
        "* **Content-type: application/vnd.api+json** - indicates that any data sent will be in JSON API format\n",
        "* **Accept: application/vnd.api+json** - indicates that the notebook expects any data returned to be in JSON API format\n",
        "* **Accept-Charset: ISO-8859-1** - indicates that the notebook expects any text returned to be in ISO-8859-1 character set"
      ]
    },
    {
      "metadata": {
        "id": "QZAli1_sjl5m",
        "colab_type": "code",
        "colab": {
          "autoexec": {
            "startup": false,
            "wait_interval": 0
          }
        }
      },
      "cell_type": "code",
      "source": [
        "base_url = 'https://testing.sysmo-db.org'\n",
        "\n",
        "headers = {\"Content-type\": \"application/vnd.api+json\",\n",
        "           \"Accept\": \"application/vnd.api+json\",\n",
        "           \"Accept-Charset\": \"ISO-8859-1\"}"
      ],
      "execution_count": 0,
      "outputs": []
    },
    {
      "metadata": {
        "id": "W0U3A7RNQJsu",
        "colab_type": "text"
      },
      "cell_type": "markdown",
      "source": [
        "Create a **requests** HTTP **Session**. A **Session** has re-usable settings such as **headers**\n",
        "\n",
        "The **authorization** is username and password. The user is prompted for this information."
      ]
    },
    {
      "metadata": {
        "id": "Kr9dtxrujl5u",
        "colab_type": "code",
        "colab": {
          "autoexec": {
            "startup": false,
            "wait_interval": 0
          }
        }
      },
      "cell_type": "code",
      "source": [
        "session = requests.Session()\n",
        "session.headers.update(headers)\n",
        "session.auth = (input('Username: '), getpass.getpass('Password: '))"
      ],
      "execution_count": 0,
      "outputs": []
    },
    {
      "metadata": {
        "id": "0xz097gufmP3",
        "colab_type": "text"
      },
      "cell_type": "markdown",
      "source": [
        "The **data_file** will be created within **Project** 33"
      ]
    },
    {
      "metadata": {
        "id": "1B0CVR0Xjl59",
        "colab_type": "code",
        "colab": {
          "autoexec": {
            "startup": false,
            "wait_interval": 0
          }
        }
      },
      "cell_type": "code",
      "source": [
        "containing_project_id = 33"
      ],
      "execution_count": 0,
      "outputs": []
    },
    {
      "metadata": {
        "id": "RO6uFM50fm3A",
        "colab_type": "text"
      },
      "cell_type": "markdown",
      "source": [
        "Initialize a **data_file** as a hierarchical structure\n",
        "\n",
        "The title of the **data_file** is input by the user\n",
        "\n",
        "The **data_file** is linked to the containing **project**"
      ]
    },
    {
      "metadata": {
        "id": "kz0EXrulkMgz",
        "colab_type": "code",
        "colab": {
          "autoexec": {
            "startup": false,
            "wait_interval": 0
          }
        }
      },
      "cell_type": "code",
      "source": [
        "data_file = {}\n",
        "data_file['data'] = {}\n",
        "data_file['data']['type'] = 'data_files'\n",
        "data_file['data']['attributes'] = {}\n",
        "data_file['data']['attributes']['title'] = input('Please enter the name for the data_file: ')\n",
        "\n",
        "remote_blob = {'url' : input('Please enter the URL for the remote data: ')}\n",
        "data_file['data']['attributes']['content_blobs'] = [remote_blob]\n",
        "data_file['data']['relationships'] = {}\n",
        "data_file['data']['relationships']['projects'] = {}\n",
        "data_file['data']['relationships']['projects']['data'] = [{'id' : containing_project_id, 'type' : 'projects'}]"
      ],
      "execution_count": 0,
      "outputs": []
    },
    {
      "metadata": {
        "id": "zqhO4RncfnvQ",
        "colab_type": "text"
      },
      "cell_type": "markdown",
      "source": [
        "**POST** the **data_file** to the SEEK instance\n",
        "\n",
        "Check the status of the response"
      ]
    },
    {
      "metadata": {
        "id": "gVJHVELEjl6E",
        "colab_type": "code",
        "colab": {
          "autoexec": {
            "startup": false,
            "wait_interval": 0
          }
        }
      },
      "cell_type": "code",
      "source": [
        "r = session.post(base_url + '/data_files', json=data_file)\n",
        "r.raise_for_status()"
      ],
      "execution_count": 0,
      "outputs": []
    },
    {
      "metadata": {
        "id": "GkAb7e4afp7Q",
        "colab_type": "text"
      },
      "cell_type": "markdown",
      "source": [
        "Extract the created **data_file** from JSON into **populated_data_file**"
      ]
    },
    {
      "metadata": {
        "id": "2uFXwFfrjl6M",
        "colab_type": "code",
        "colab": {
          "autoexec": {
            "startup": false,
            "wait_interval": 0
          }
        }
      },
      "cell_type": "code",
      "source": [
        "populated_data_file = r.json()"
      ],
      "execution_count": 0,
      "outputs": []
    },
    {
      "metadata": {
        "id": "jpezMhAsfqY-",
        "colab_type": "text"
      },
      "cell_type": "markdown",
      "source": [
        "Extract the id and URL to the newly created **data_file**"
      ]
    },
    {
      "metadata": {
        "id": "WvypbUN1jl6T",
        "colab_type": "code",
        "colab": {
          "autoexec": {
            "startup": false,
            "wait_interval": 0
          }
        }
      },
      "cell_type": "code",
      "source": [
        "data_file_id = populated_data_file['data']['id']\n",
        "data_file_url = populated_data_file['data']['links']['self']"
      ],
      "execution_count": 0,
      "outputs": []
    },
    {
      "metadata": {
        "id": "lAt3X7HHfxNY",
        "colab_type": "text"
      },
      "cell_type": "markdown",
      "source": [
        "Tidy up the SEEK by deleting the **data_file**."
      ]
    },
    {
      "metadata": {
        "id": "LY73864Ujl6a",
        "colab_type": "code",
        "colab": {
          "autoexec": {
            "startup": false,
            "wait_interval": 0
          }
        }
      },
      "cell_type": "code",
      "source": [
        "session.delete(base_url + data_file_url)"
      ],
      "execution_count": 0,
      "outputs": []
    },
    {
      "metadata": {
        "id": "L_RtKMBzfyAo",
        "colab_type": "text"
      },
      "cell_type": "markdown",
      "source": [
        "Close the HTTP **session**"
      ]
    },
    {
      "metadata": {
        "id": "NpYQR8EUjl6j",
        "colab_type": "code",
        "colab": {
          "autoexec": {
            "startup": false,
            "wait_interval": 0
          }
        }
      },
      "cell_type": "code",
      "source": [
        "session.close()"
      ],
      "execution_count": 0,
      "outputs": []
    }
  ]
}