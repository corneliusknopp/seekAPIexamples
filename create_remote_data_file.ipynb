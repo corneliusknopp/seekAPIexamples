{
 "cells": [
  {
   "cell_type": "code",
   "execution_count": 1,
   "metadata": {},
   "outputs": [],
   "source": [
    "import requests\n",
    "import json\n",
    "import string\n",
    "import getpass"
   ]
  },
  {
   "cell_type": "code",
   "execution_count": 2,
   "metadata": {},
   "outputs": [],
   "source": [
    "def remove_non_printable(text):\n",
    "    return ''.join(i for i in text if i in string.printable)"
   ]
  },
  {
   "cell_type": "code",
   "execution_count": 3,
   "metadata": {},
   "outputs": [],
   "source": [
    "base_url = 'https://testing.sysmo-db.org'\n",
    "\n",
    "headers = {\"Content-type\": \"application/vnd.api+json\",\n",
    "           \"Accept\": \"application/vnd.api+json\",\n",
    "           \"Accept-Charset\": \"ISO-8859-1\"}"
   ]
  },
  {
   "cell_type": "code",
   "execution_count": 12,
   "metadata": {},
   "outputs": [
    {
     "name": "stdout",
     "output_type": "stream",
     "text": [
      "Username: alson\n",
      "Password: ········\n"
     ]
    }
   ],
   "source": [
    "session = requests.Session()\n",
    "session.headers.update(headers)\n",
    "session.auth = (input('Username: '), getpass.getpass('Password: '))"
   ]
  },
  {
   "cell_type": "code",
   "execution_count": null,
   "metadata": {},
   "outputs": [],
   "source": [
    "containing_project_id = 33\n",
    "\n",
    "data_file = {}\n",
    "data_file['data'] = {}\n",
    "data_file['data']['type'] = 'data_files'\n",
    "data_file['data']['attributes'] = {}\n",
    "data_file['data']['attributes']['title'] = input('Please enter the name for the data_file: ')\n",
    "\n",
    "remote_blob = {'url' : input('Please enter the URL for the remote data: ')}\n",
    "data_file['data']['attributes']['content_blobs'] = [remote_blob]\n",
    "data_file['data']['relationships'] = {}\n",
    "data_file['data']['relationships']['projects'] = {}\n",
    "data_file['data']['relationships']['projects']['data'] = [{'id' : containing_project_id, 'type' : 'projects'}]"
   ]
  },
  {
   "cell_type": "code",
   "execution_count": 14,
   "metadata": {},
   "outputs": [],
   "source": [
    "r = session.post(base_url + '/data_files', json=data_file)"
   ]
  },
  {
   "cell_type": "code",
   "execution_count": 15,
   "metadata": {},
   "outputs": [],
   "source": [
    "populated_data_file = r.json()"
   ]
  },
  {
   "cell_type": "code",
   "execution_count": 16,
   "metadata": {},
   "outputs": [],
   "source": [
    "data_file_id = populated_data_file['data']['id']\n",
    "data_file_url = populated_data_file['data']['links']['self']"
   ]
  },
  {
   "cell_type": "code",
   "execution_count": null,
   "metadata": {},
   "outputs": [],
   "source": [
    "session.delete(base_url + data_file_url)"
   ]
  },
  {
   "cell_type": "code",
   "execution_count": null,
   "metadata": {},
   "outputs": [],
   "source": []
  }
 ],
 "metadata": {
  "kernelspec": {
   "display_name": "Python 3",
   "language": "python",
   "name": "python3"
  },
  "language_info": {
   "codemirror_mode": {
    "name": "ipython",
    "version": 3
   },
   "file_extension": ".py",
   "mimetype": "text/x-python",
   "name": "python",
   "nbconvert_exporter": "python",
   "pygments_lexer": "ipython3",
   "version": "3.6.4"
  }
 },
 "nbformat": 4,
 "nbformat_minor": 2
}
