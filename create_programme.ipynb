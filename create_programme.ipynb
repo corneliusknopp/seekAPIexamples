{
  "nbformat": 4,
  "nbformat_minor": 0,
  "metadata": {
    "colab": {
      "name": "create_programme.ipynb",
      "version": "0.3.2",
      "views": {},
      "default_view": {},
      "provenance": []
    },
    "kernelspec": {
      "display_name": "Python 3",
      "language": "python",
      "name": "python3"
    }
  },
  "cells": [
    {
      "metadata": {
        "id": "eHED0l52PClp",
        "colab_type": "text"
      },
      "cell_type": "markdown",
      "source": [
        "Import the libraries so that they can be used within the notebook\n",
        "\n",
        "* **requests** is used to make HTTP calls\n",
        "* **json** is used to encode and decode strings into JSON\n",
        "* **string** is used to perform text manipulation and checking\n",
        "* **getpass** is used to do non-echoing password input"
      ]
    },
    {
      "metadata": {
        "id": "23SLsPZSVixN",
        "colab_type": "code",
        "colab": {
          "autoexec": {
            "startup": false,
            "wait_interval": 0
          }
        }
      },
      "cell_type": "code",
      "source": [
        "import requests\n",
        "import json\n",
        "import string\n",
        "import getpass"
      ],
      "execution_count": 0,
      "outputs": []
    },
    {
      "metadata": {
        "id": "u9t7T9pmQJsn",
        "colab_type": "text"
      },
      "cell_type": "markdown",
      "source": [
        "The **base_url** holds the URL to the SEEK instance that will be used in the notebook\n",
        "\n",
        "**headers** holds the HTTP headers that will be sent with every HTTP call\n",
        "\n",
        "* **Content-type: application/vnd.api+json** - indicates that any data sent will be in JSON API format\n",
        "* **Accept: application/vnd.api+json** - indicates that the notebook expects any data returned to be in JSON API format\n",
        "* **Accept-Charset: ISO-8859-1** - indicates that the notebook expects any text returned to be in ISO-8859-1 character set"
      ]
    },
    {
      "metadata": {
        "id": "KfumXHotVixh",
        "colab_type": "code",
        "colab": {
          "autoexec": {
            "startup": false,
            "wait_interval": 0
          }
        }
      },
      "cell_type": "code",
      "source": [
        "base_url = 'https://testing.sysmo-db.org'\n",
        "\n",
        "headers = {\"Content-type\": \"application/vnd.api+json\",\n",
        "           \"Accept\": \"application/vnd.api+json\",\n",
        "           \"Accept-Charset\": \"ISO-8859-1\"}"
      ],
      "execution_count": 0,
      "outputs": []
    },
    {
      "metadata": {
        "id": "W0U3A7RNQJsu",
        "colab_type": "text"
      },
      "cell_type": "markdown",
      "source": [
        "Create a **requests** HTTP **Session**. A **Session** has re-usable settings such as **headers**\n",
        "\n",
        "The **authorization** is username and password. The user is prompted for this information."
      ]
    },
    {
      "metadata": {
        "id": "sJqeI7PIVixo",
        "colab_type": "code",
        "colab": {
          "autoexec": {
            "startup": false,
            "wait_interval": 0
          }
        }
      },
      "cell_type": "code",
      "source": [
        "session = requests.Session()\n",
        "session.headers.update(headers)\n",
        "session.auth = (input('Username: '), getpass.getpass('Password: '))"
      ],
      "execution_count": 0,
      "outputs": []
    },
    {
      "metadata": {
        "id": "jHCm0ej1W7Z3",
        "colab_type": "text"
      },
      "cell_type": "markdown",
      "source": [
        "Initialize a **programme** as a hierarchical directory\n",
        "\n",
        "The title of the **programme** is input by the user"
      ]
    },
    {
      "metadata": {
        "id": "OeyMAssCVixw",
        "colab_type": "code",
        "colab": {
          "autoexec": {
            "startup": false,
            "wait_interval": 0
          }
        }
      },
      "cell_type": "code",
      "source": [
        "programme = {}\n",
        "programme['data'] = {}\n",
        "programme['data']['type'] = 'programmes'\n",
        "programme['data']['attributes'] = {}\n",
        "programme['data']['attributes']['title'] = input('Please enter the name for the programme: ')"
      ],
      "execution_count": 0,
      "outputs": []
    },
    {
      "metadata": {
        "id": "tL6vlzPhYCnT",
        "colab_type": "text"
      },
      "cell_type": "markdown",
      "source": [
        "**POST** the **programme** to the SEEK instance.\n",
        "\n",
        "Check the status of the response"
      ]
    },
    {
      "metadata": {
        "id": "0eIr0XCsVix5",
        "colab_type": "code",
        "colab": {
          "autoexec": {
            "startup": false,
            "wait_interval": 0
          }
        }
      },
      "cell_type": "code",
      "source": [
        "r = session.post(base_url + '/programmes', json=programme)\n",
        "r.raise_for_status()"
      ],
      "execution_count": 0,
      "outputs": []
    },
    {
      "metadata": {
        "id": "CoVlDrnRW89G",
        "colab_type": "text"
      },
      "cell_type": "markdown",
      "source": [
        "Extract the created **programme** from JSON into **populated**"
      ]
    },
    {
      "metadata": {
        "id": "Y_qQaP2kViyA",
        "colab_type": "code",
        "colab": {
          "autoexec": {
            "startup": false,
            "wait_interval": 0
          }
        }
      },
      "cell_type": "code",
      "source": [
        "populated = r.json()"
      ],
      "execution_count": 0,
      "outputs": []
    },
    {
      "metadata": {
        "id": "1AzDSbxPXA3U",
        "colab_type": "text"
      },
      "cell_type": "markdown",
      "source": [
        "Extract the URL to the newly created **programme**"
      ]
    },
    {
      "metadata": {
        "id": "4agEC2BqViyI",
        "colab_type": "code",
        "colab": {
          "autoexec": {
            "startup": false,
            "wait_interval": 0
          }
        }
      },
      "cell_type": "code",
      "source": [
        "programme_url = populated['data']['links']['self']"
      ],
      "execution_count": 0,
      "outputs": []
    },
    {
      "metadata": {
        "id": "kEO52aMiXCPt",
        "colab_type": "text"
      },
      "cell_type": "markdown",
      "source": [
        "Print the **programme**'s URL"
      ]
    },
    {
      "metadata": {
        "id": "R-7xv_zdViyO",
        "colab_type": "code",
        "colab": {
          "autoexec": {
            "startup": false,
            "wait_interval": 0
          }
        }
      },
      "cell_type": "code",
      "source": [
        "print (programme_url)"
      ],
      "execution_count": 0,
      "outputs": []
    },
    {
      "metadata": {
        "id": "hhu36Yb-XE1d",
        "colab_type": "text"
      },
      "cell_type": "markdown",
      "source": [
        "Tidy up the SEEK by deleting the **programme**\n"
      ]
    },
    {
      "metadata": {
        "id": "zFh-d_PsViyX",
        "colab_type": "code",
        "colab": {
          "autoexec": {
            "startup": false,
            "wait_interval": 0
          }
        }
      },
      "cell_type": "code",
      "source": [
        "r = session.delete(base_url + programme_url)\n",
        "r.raise_for_status()"
      ],
      "execution_count": 0,
      "outputs": []
    },
    {
      "metadata": {
        "id": "v7jTEVJRXGr9",
        "colab_type": "text"
      },
      "cell_type": "markdown",
      "source": [
        "Close the HTTP **session**"
      ]
    },
    {
      "metadata": {
        "id": "BFubJ_01Viyf",
        "colab_type": "code",
        "colab": {
          "autoexec": {
            "startup": false,
            "wait_interval": 0
          }
        }
      },
      "cell_type": "code",
      "source": [
        "session.close()"
      ],
      "execution_count": 0,
      "outputs": []
    },
    {
      "metadata": {
        "id": "qzs_NVTYbyHQ",
        "colab_type": "code",
        "colab": {
          "autoexec": {
            "startup": false,
            "wait_interval": 0
          }
        }
      },
      "cell_type": "code",
      "source": [
        ""
      ],
      "execution_count": 0,
      "outputs": []
    }
  ]
}